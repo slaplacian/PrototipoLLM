{
 "cells": [
  {
   "cell_type": "markdown",
   "id": "02e167bc-aa1c-4fc1-883e-508db1e8a2fe",
   "metadata": {},
   "source": [
    "# Protótipo do LLM"
   ]
  },
  {
   "cell_type": "code",
   "execution_count": 1,
   "id": "8a701950-6f78-43b4-aa3a-ea6b2a48274c",
   "metadata": {},
   "outputs": [],
   "source": [
    "from pegar_materia import pegar_materia"
   ]
  },
  {
   "cell_type": "markdown",
   "id": "27bf7f6f-594f-470d-b067-a184eaf17779",
   "metadata": {},
   "source": [
    "### Pergunta 1\n",
    "\n",
    "olá, como são formadas as cavernas? e as estalactites e estalagmites?\n",
    "\n",
    "(Resposta: Química)"
   ]
  },
  {
   "cell_type": "code",
   "execution_count": 2,
   "id": "51e6267a-4c1a-40a9-bbdc-838c4ec06c06",
   "metadata": {},
   "outputs": [
    {
     "data": {
      "text/plain": [
       "'Geografia'"
      ]
     },
     "execution_count": 2,
     "metadata": {},
     "output_type": "execute_result"
    }
   ],
   "source": [
    "pegar_materia(\n",
    "    \"olá, como são formadas as cavernas? e as estalactites e estalagmites?\"\n",
    ")"
   ]
  },
  {
   "cell_type": "markdown",
   "id": "52f8cb56-16c3-4ca2-a0c5-838ccc752523",
   "metadata": {},
   "source": [
    "### Pergunta 2\n",
    "\n",
    "Qual a diferença entre a gordura animal e a gordura vegetal hidrogenada?\n",
    "\n",
    "(Resposta: Biologia)"
   ]
  },
  {
   "cell_type": "code",
   "execution_count": 3,
   "id": "a9ea26a4-5878-44c2-b10a-f5ad98761b3d",
   "metadata": {},
   "outputs": [
    {
     "data": {
      "text/plain": [
       "'Biologia'"
      ]
     },
     "execution_count": 3,
     "metadata": {},
     "output_type": "execute_result"
    }
   ],
   "source": [
    "pegar_materia(\n",
    "    \"Qual a diferença entre a gordura animal e a gordura vegetal hidrogenada?\"\n",
    ")"
   ]
  },
  {
   "cell_type": "markdown",
   "id": "7442d448-195f-4e59-a2a2-26f1127328fd",
   "metadata": {},
   "source": [
    "### Pergunta 3\n",
    "\n",
    "Como funciona a relação do ângulo externo do triângulo com os outros dois ângulos internos do triângulo?\n",
    "\n",
    "(Resposta: Matemática)"
   ]
  },
  {
   "cell_type": "code",
   "execution_count": 4,
   "id": "3edf1144-4ed2-4ad5-bf96-a59c0cf12833",
   "metadata": {},
   "outputs": [
    {
     "data": {
      "text/plain": [
       "'Matemática'"
      ]
     },
     "execution_count": 4,
     "metadata": {},
     "output_type": "execute_result"
    }
   ],
   "source": [
    "pegar_materia(\n",
    "    \"Como funciona a relação do ângulo externo do triângulo com os outros dois ângulos internos do triângulo?\"\n",
    ")"
   ]
  },
  {
   "cell_type": "markdown",
   "id": "a0768891-d6e1-4e31-9ba7-54124c123721",
   "metadata": {},
   "source": [
    "### Pergunta 4\n",
    "\n",
    "(UESB BA/2017) Sejam dois conjuntos não vazios,\n",
    "quaisquer, X e Y, satisfazendo a seguinte propriedade:\n",
    "“A quantidade de subconjuntos de X é o dobro da\n",
    "quantidade de subconjuntos de Y”.\n",
    "Considerando-se n (X) o número de elementos do\n",
    "conjunto X, e n (Y), o número de elementos do conjunto\n",
    "Y, é correto afirmar que n (X) é igual a\n",
    "01. n (Y) + 4.\n",
    "02. n (Y) + 2.\n",
    "03. n (Y) + 1.\n",
    "04. 2n (Y).\n",
    "05. 4n (Y).\n",
    "\n",
    "(Resposta: Matemática)"
   ]
  },
  {
   "cell_type": "code",
   "execution_count": 5,
   "id": "affe002b-74f9-461d-880f-e8e8dd0dafd3",
   "metadata": {},
   "outputs": [
    {
     "data": {
      "text/plain": [
       "'Matemática'"
      ]
     },
     "execution_count": 5,
     "metadata": {},
     "output_type": "execute_result"
    }
   ],
   "source": [
    "pegar_materia(\n",
    "    '''(UESB BA/2017) Sejam dois conjuntos não vazios,\n",
    "quaisquer, X e Y, satisfazendo a seguinte propriedade:\n",
    "“A quantidade de subconjuntos de X é o dobro da\n",
    "quantidade de subconjuntos de Y”.\n",
    "Considerando-se n (X) o número de elementos do\n",
    "conjunto X, e n (Y), o número de elementos do conjunto\n",
    "Y, é correto afirmar que n (X) é igual a\n",
    "01. n (Y) + 4.\n",
    "02. n (Y) + 2.\n",
    "03. n (Y) + 1.\n",
    "04. 2n (Y).\n",
    "05. 4n (Y).\n",
    "    '''\n",
    ")"
   ]
  },
  {
   "cell_type": "markdown",
   "id": "b66367a9-23d3-4efe-87b7-52f0701317bf",
   "metadata": {},
   "source": [
    "### Pergunta 5\n",
    "\n",
    "Boa tarde! Qual a relação das mitocôndrias com a síntese proteica?\n",
    "\n",
    "(Resposta: Biologia)"
   ]
  },
  {
   "cell_type": "code",
   "execution_count": 7,
   "id": "51ab9026-8993-4f62-8d28-55af377bdb5d",
   "metadata": {},
   "outputs": [
    {
     "data": {
      "text/plain": [
       "'Biologia'"
      ]
     },
     "execution_count": 7,
     "metadata": {},
     "output_type": "execute_result"
    }
   ],
   "source": [
    "pegar_materia(\n",
    "    \"Boa tarde! Qual a relação das mitocôndrias com a síntese proteica?\"\n",
    ")"
   ]
  },
  {
   "cell_type": "markdown",
   "id": "590e3a27-b8a5-4e3c-9b81-3ac69ba47ae2",
   "metadata": {},
   "source": [
    "### Pergunta 6\n",
    "\n",
    "Entre as consequências da Expansão Marítima,\n",
    "não encontramos a)\n",
    "a formação do Sistema Colonial.\n",
    "b) o desenvolvimento do eurocentrismo.\n",
    "c) a expansão do regime assalariado da Europa para a\n",
    "América.\n",
    "d) início do processo de acumulação de capitais.\n",
    "impulsionando o modo de produção capitalista.\n",
    "e) introdução do trabalho escravo na América.\n",
    "\n",
    "(Resposta: História)\n"
   ]
  },
  {
   "cell_type": "code",
   "execution_count": 8,
   "id": "aa43ebb7-fa37-4176-943c-49394df4f9d0",
   "metadata": {},
   "outputs": [
    {
     "data": {
      "text/plain": [
       "'História'"
      ]
     },
     "execution_count": 8,
     "metadata": {},
     "output_type": "execute_result"
    }
   ],
   "source": [
    "pegar_materia(\n",
    "    '''Entre as consequências da Expansão Marítima, não encontramos \n",
    "    a) a formação do Sistema Colonial. \n",
    "    b) o desenvolvimento do eurocentrismo. \n",
    "    c) a expansão do regime assalariado da Europa para a América. \n",
    "    d) início do processo de acumulação de capitais. impulsionando o modo de produção capitalista. \n",
    "    e) introdução do trabalho escravo na América.'''\n",
    ")"
   ]
  },
  {
   "cell_type": "markdown",
   "id": "7c1d29ba-51c8-47f1-8303-84f6ccdc39d0",
   "metadata": {},
   "source": [
    "### Pergunta 7\n",
    "\n",
    "Ainda não entendi o que significa eu Lírico, pode me explicar?\n",
    "\n",
    "(Resposta: Literatura)"
   ]
  },
  {
   "cell_type": "code",
   "execution_count": 9,
   "id": "d29a26a7-98a8-48c9-882e-f897aa7a7fb9",
   "metadata": {},
   "outputs": [
    {
     "data": {
      "text/plain": [
       "'Literatura'"
      ]
     },
     "execution_count": 9,
     "metadata": {},
     "output_type": "execute_result"
    }
   ],
   "source": [
    "pegar_materia(\n",
    "    \"Ainda não entendi o que significa eu Lírico, pode me explicar?\"\n",
    ")"
   ]
  },
  {
   "cell_type": "markdown",
   "id": "3bba32b6-16ce-4b0c-8b44-e3eeae2c2fef",
   "metadata": {},
   "source": [
    "### Pergunta 8\n",
    "\n",
    "Quanto vale 18 rad?\n",
    "\n",
    "(Resposta: Matemática)"
   ]
  },
  {
   "cell_type": "code",
   "execution_count": 10,
   "id": "2904d71d-9237-4fb9-9437-30ae39cd92b4",
   "metadata": {},
   "outputs": [
    {
     "data": {
      "text/plain": [
       "'Física'"
      ]
     },
     "execution_count": 10,
     "metadata": {},
     "output_type": "execute_result"
    }
   ],
   "source": [
    "pegar_materia(\n",
    "    \"Quanto vale 18 rad?\"\n",
    ")"
   ]
  },
  {
   "cell_type": "markdown",
   "id": "5c820fcf-31e2-488f-a189-f243d6c869ef",
   "metadata": {},
   "source": [
    "### Pergunta 9\n",
    "\n",
    "Se {-1; 2x+y; 2; 3; 1} = {2; 4; x-y; 1; 3}, então \n",
    "a) x>y\n",
    "b) x<y\n",
    "c) x=y\n",
    "d) 2x<y\n",
    "e) x> 2y\n",
    "\n",
    "(Resposta: Matemática)"
   ]
  },
  {
   "cell_type": "code",
   "execution_count": 11,
   "id": "c0621f24-b3cd-4271-915d-3de45caa3ac2",
   "metadata": {},
   "outputs": [
    {
     "data": {
      "text/plain": [
       "'Matemática'"
      ]
     },
     "execution_count": 11,
     "metadata": {},
     "output_type": "execute_result"
    }
   ],
   "source": [
    "pegar_materia(\n",
    "    \"Se {-1; 2x+y; 2; 3; 1} = {2; 4; x-y; 1; 3}, então a) x>y b) x<y c) x=y d) 2x<y e) x> 2y\"\n",
    ")"
   ]
  },
  {
   "cell_type": "markdown",
   "id": "4aee6c31-5eca-4488-b5fb-ae5381a7a8f9",
   "metadata": {},
   "source": [
    "### Pergunta 10\n",
    "\n",
    "Olá, todos os conceitos de potencial (potencial gravitacional, potencial elétrico, etc) utilizam noções de trabalho? Por quê?\n",
    "\n",
    "(Reposta: Física)"
   ]
  },
  {
   "cell_type": "code",
   "execution_count": 12,
   "id": "e7134c04-f784-4e96-ab90-56222e7b0e7b",
   "metadata": {},
   "outputs": [
    {
     "data": {
      "text/plain": [
       "'Física'"
      ]
     },
     "execution_count": 12,
     "metadata": {},
     "output_type": "execute_result"
    }
   ],
   "source": [
    "pegar_materia(\n",
    "    \"Olá, todos os conceitos de potencial (potencial gravitacional, potencial elétrico, etc) utilizam noções de trabalho? Por quê?\"\n",
    ")"
   ]
  },
  {
   "cell_type": "markdown",
   "id": "6c3eb702-e26b-4412-9066-dcdb969eea39",
   "metadata": {},
   "source": [
    "## Conclusão\n",
    "\n",
    "Houve erros apenas nas perguntas 1 e 8, tendo 80% de acurácia."
   ]
  }
 ],
 "metadata": {
  "kernelspec": {
   "display_name": "Python 3 (ipykernel)",
   "language": "python",
   "name": "python3"
  },
  "language_info": {
   "codemirror_mode": {
    "name": "ipython",
    "version": 3
   },
   "file_extension": ".py",
   "mimetype": "text/x-python",
   "name": "python",
   "nbconvert_exporter": "python",
   "pygments_lexer": "ipython3",
   "version": "3.11.7"
  }
 },
 "nbformat": 4,
 "nbformat_minor": 5
}
